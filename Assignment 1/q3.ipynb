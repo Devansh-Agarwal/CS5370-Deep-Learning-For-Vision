{
 "cells": [
  {
   "cell_type": "code",
   "execution_count": 15,
   "metadata": {},
   "outputs": [],
   "source": [
    "import cv2\n",
    "import numpy as np \n",
    "import sys\n",
    "from scipy import signal"
   ]
  },
  {
   "cell_type": "markdown",
   "metadata": {},
   "source": [
    "Part a) Laplacian filter is more sensitive to noise as compared to sobel filter as it is second order derivative filter as compared to sobel which is first order derivative filter.In sobel the edges are broader and bolder as compared to laplacian. Laplacian only needs one kernel whereas sobel needs 2 kernels one for vertical and the other of horizontal."
   ]
  },
  {
   "cell_type": "code",
   "execution_count": 16,
   "metadata": {},
   "outputs": [],
   "source": [
    "def my_conv2(im_in, kernel):\n",
    "    paddedim_in = np.pad(im_in, ((kernel.shape[0] - 1, kernel.shape[0] - 1),\n",
    "                                 (kernel.shape[1] - 1, kernel.shape[1] - 1)), 'constant')\n",
    "    kernel = np.flip(np.flip(kernel, 1), 0)\n",
    "    convolutionMatrix = []\n",
    "    for i in range(paddedim_in.shape[0] - kernel.shape[0] + 1):\n",
    "        tempList = []\n",
    "        for j in range(paddedim_in.shape[1] - kernel.shape[1] + 1):\n",
    "            temp = paddedim_in[i: i + kernel.shape[0], j: j + kernel.shape[1]]\n",
    "            temp = np.multiply(temp, kernel)\n",
    "            temp = temp.flatten()\n",
    "            tempList.append(np.sum(temp))\n",
    "        convolutionMatrix.append(tempList)\n",
    "    return convolutionMatrix"
   ]
  },
  {
   "cell_type": "code",
   "execution_count": 17,
   "metadata": {},
   "outputs": [
    {
     "data": {
      "text/plain": [
       "True"
      ]
     },
     "execution_count": 17,
     "metadata": {},
     "output_type": "execute_result"
    }
   ],
   "source": [
    "sobelVer = np.array([[1,0,-1],[2,0,-2],[1,0,-1]])\n",
    "image = cv2.imread('clown.tif')\n",
    "image = cv2.cvtColor(image, cv2.COLOR_BGR2GRAY)\n",
    "cv2.imwrite(\"sobelVertical3*3.jpg\", np.array(my_conv2(image, sobelVer)))\n",
    "cv2.imwrite(\"sobelVerticalSciPy3*3.jpg\", signal.convolve2d(image, sobelVer, boundary='fill'))"
   ]
  },
  {
   "cell_type": "code",
   "execution_count": 18,
   "metadata": {},
   "outputs": [
    {
     "data": {
      "text/plain": [
       "True"
      ]
     },
     "execution_count": 18,
     "metadata": {},
     "output_type": "execute_result"
    }
   ],
   "source": [
    "sobelHor = np.array([[1,2,1],[0,0,0],[-1,-2,-1]])\n",
    "cv2.imwrite(\"sobelHorizontal3*3.jpg\", np.array(my_conv2(image, sobelHor)))\n",
    "cv2.imwrite(\"sobelHorizontalSciPy3*3.jpg\", signal.convolve2d(image, sobelHor, boundary='fill'))"
   ]
  },
  {
   "cell_type": "code",
   "execution_count": 19,
   "metadata": {},
   "outputs": [
    {
     "data": {
      "text/plain": [
       "True"
      ]
     },
     "execution_count": 19,
     "metadata": {},
     "output_type": "execute_result"
    }
   ],
   "source": [
    "cv2.imwrite(\"sobelFull3*3.jpg\", np.absolute(np.array(my_conv2(image, sobelHor))) + np.absolute(np.array(my_conv2(image, sobelVer))))\n",
    "cv2.imwrite(\"sobelFullScipy3*3.jpg\", np.absolute(signal.convolve2d(image, sobelVer, boundary='fill')) + np.absolute(signal.convolve2d(image, sobelHor, boundary='fill')))"
   ]
  },
  {
   "cell_type": "code",
   "execution_count": 20,
   "metadata": {},
   "outputs": [
    {
     "data": {
      "text/plain": [
       "True"
      ]
     },
     "execution_count": 20,
     "metadata": {},
     "output_type": "execute_result"
    }
   ],
   "source": [
    "laplacian = np.array([[0,-1,0],[-1,4,-1],[0,-1,0]])\n",
    "cv2.imwrite(\"laplacian3*3.jpg\", np.array(my_conv2(image, laplacian)))\n",
    "cv2.imwrite(\"laplacianSciPy3*3.jpg\", signal.convolve2d(image, laplacian, boundary='fill'))"
   ]
  },
  {
   "cell_type": "markdown",
   "metadata": {},
   "source": [
    "partb) There is no percievable difference betweent the ouput of scipy and my functions. There is a difference in time scipy is significantly faster than my implementation. Scipy uses FFT based algorithm with time complexity O(mnlog(mn)) whereas my implementaion has time complexity O(mmnn). Where m and n are dimensions of the images."
   ]
  },
  {
   "cell_type": "code",
   "execution_count": null,
   "metadata": {},
   "outputs": [],
   "source": []
  }
 ],
 "metadata": {
  "kernelspec": {
   "display_name": "Python 3",
   "language": "python",
   "name": "python3"
  },
  "language_info": {
   "codemirror_mode": {
    "name": "ipython",
    "version": 3
   },
   "file_extension": ".py",
   "mimetype": "text/x-python",
   "name": "python",
   "nbconvert_exporter": "python",
   "pygments_lexer": "ipython3",
   "version": "3.6.8"
  }
 },
 "nbformat": 4,
 "nbformat_minor": 2
}
