{
 "cells": [
  {
   "cell_type": "code",
   "execution_count": 87,
   "metadata": {},
   "outputs": [],
   "source": [
    "import cv2\n",
    "import numpy as np \n",
    "import sys\n",
    "from scipy.ndimage import gaussian_filter\n"
   ]
  },
  {
   "cell_type": "markdown",
   "metadata": {},
   "source": [
    "Two images have been created one is with cat and dog and the other is with marilyn and einstein."
   ]
  },
  {
   "cell_type": "code",
   "execution_count": 88,
   "metadata": {},
   "outputs": [],
   "source": [
    "def createHybrid(image1, dev1, image2, dev2):\n",
    "    image1 = gaussian_filter(image1, sigma=dev1)\n",
    "    image2 = cv2.subtract(image2, gaussian_filter(image2, sigma=dev2))\n",
    "    return cv2.add(image1, image2)\n",
    "    "
   ]
  },
  {
   "cell_type": "code",
   "execution_count": 93,
   "metadata": {},
   "outputs": [
    {
     "data": {
      "text/plain": [
       "True"
      ]
     },
     "execution_count": 93,
     "metadata": {},
     "output_type": "execute_result"
    }
   ],
   "source": [
    "cat = cv2.imread('cat.bmp')\n",
    "dog = cv2.imread('dog.bmp')\n",
    "cv2.imwrite(\"catHighDogLow.png\", createHybrid(dog, 5, cat, 5))"
   ]
  },
  {
   "cell_type": "code",
   "execution_count": 99,
   "metadata": {},
   "outputs": [
    {
     "data": {
      "text/plain": [
       "True"
      ]
     },
     "execution_count": 99,
     "metadata": {},
     "output_type": "execute_result"
    }
   ],
   "source": [
    "einstein = cv2.imread('einstein.bmp')\n",
    "marilyn = cv2.imread('marilyn.bmp')\n",
    "cv2.imwrite(\"marilynHighEinsteinLow.png\", createHybrid(einstein, 4, marilyn, 9))"
   ]
  }
 ],
 "metadata": {
  "kernelspec": {
   "display_name": "Python 3",
   "language": "python",
   "name": "python3"
  },
  "language_info": {
   "codemirror_mode": {
    "name": "ipython",
    "version": 3
   },
   "file_extension": ".py",
   "mimetype": "text/x-python",
   "name": "python",
   "nbconvert_exporter": "python",
   "pygments_lexer": "ipython3",
   "version": "3.6.8"
  }
 },
 "nbformat": 4,
 "nbformat_minor": 2
}
