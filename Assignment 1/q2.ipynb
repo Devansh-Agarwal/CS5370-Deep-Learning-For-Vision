{
 "cells": [
  {
   "cell_type": "code",
   "execution_count": 10,
   "metadata": {},
   "outputs": [],
   "source": [
    "import cv2\n",
    "import numpy as np \n",
    "import sys"
   ]
  },
  {
   "cell_type": "markdown",
   "metadata": {},
   "source": [
    "Implementation of 2d conv function, run the cell below it for vertical edge output on clown.tif"
   ]
  },
  {
   "cell_type": "code",
   "execution_count": 11,
   "metadata": {},
   "outputs": [],
   "source": [
    "def my_conv2(im_in, kernel):\n",
    "    paddedim_in = np.pad(im_in, ((kernel.shape[0] - 1, kernel.shape[0] - 1),\n",
    "                                 (kernel.shape[1] - 1, kernel.shape[1] - 1)), 'constant')\n",
    "    kernel = np.flip(np.flip(kernel, 1), 0)\n",
    "    convolutionMatrix = []\n",
    "    for i in range(paddedim_in.shape[0] - kernel.shape[0] + 1):\n",
    "        tempList = []\n",
    "        for j in range(paddedim_in.shape[1] - kernel.shape[1] + 1):\n",
    "            temp = paddedim_in[i: i + kernel.shape[0], j: j + kernel.shape[1]]\n",
    "            temp = np.multiply(temp, kernel)\n",
    "            temp = temp.flatten()\n",
    "            tempList.append(np.sum(temp))\n",
    "        convolutionMatrix.append(tempList)\n",
    "    return convolutionMatrix"
   ]
  },
  {
   "cell_type": "code",
   "execution_count": 18,
   "metadata": {},
   "outputs": [
    {
     "data": {
      "text/plain": [
       "True"
      ]
     },
     "execution_count": 18,
     "metadata": {},
     "output_type": "execute_result"
    }
   ],
   "source": [
    "kernel = np.array([[1,0,-1],[1,0,-1],[1,0,-1]])\n",
    "image = cv2.imread('clown.tif')\n",
    "image = cv2.cvtColor(image, cv2.COLOR_BGR2GRAY)\n",
    "cv2.imwrite(\"2.jpg\", np.array(my_conv2(image, kernel)))"
   ]
  },
  {
   "cell_type": "code",
   "execution_count": null,
   "metadata": {},
   "outputs": [],
   "source": []
  }
 ],
 "metadata": {
  "kernelspec": {
   "display_name": "Python 3",
   "language": "python",
   "name": "python3"
  },
  "language_info": {
   "codemirror_mode": {
    "name": "ipython",
    "version": 3
   },
   "file_extension": ".py",
   "mimetype": "text/x-python",
   "name": "python",
   "nbconvert_exporter": "python",
   "pygments_lexer": "ipython3",
   "version": "3.6.8"
  }
 },
 "nbformat": 4,
 "nbformat_minor": 2
}
