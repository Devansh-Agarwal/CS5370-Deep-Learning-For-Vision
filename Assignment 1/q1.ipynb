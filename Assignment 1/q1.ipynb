{
 "cells": [
  {
   "cell_type": "code",
   "execution_count": 1,
   "metadata": {},
   "outputs": [],
   "source": [
    "import cv2\n",
    "import numpy as np \n",
    "import sys"
   ]
  },
  {
   "cell_type": "code",
   "execution_count": 2,
   "metadata": {},
   "outputs": [
    {
     "data": {
      "text/plain": [
       "{'divide': 'warn', 'over': 'warn', 'under': 'ignore', 'invalid': 'warn'}"
      ]
     },
     "execution_count": 2,
     "metadata": {},
     "output_type": "execute_result"
    }
   ],
   "source": [
    "np.set_printoptions(threshold=sys.maxsize)\n",
    "np.seterr(divide='ignore', invalid='ignore')"
   ]
  },
  {
   "cell_type": "markdown",
   "metadata": {},
   "source": [
    "Part 1a) There are multiple bright spots each for 1 face but the brightest spot is for the face in the template.When the kernel matches the image section, the ouput value will be a sum of squares, it would be positive and large. The normalisation takes care of the patches that would have high intensity so they do not give false bright spots. The sections with uniform intensity will go to zero and not give false bright spots. "
   ]
  },
  {
   "cell_type": "code",
   "execution_count": 3,
   "metadata": {},
   "outputs": [],
   "source": [
    "def findNoramlisedCorrelation(template, image):\n",
    "    paddedImage = np.pad(image, ((template.shape[0] - 1, template.shape[0] - 1),\n",
    "                                 (template.shape[1] - 1, template.shape[1] - 1)), 'constant')\n",
    "#     print(paddedImage.shape, image.shape, template.shape)\n",
    "#     cv2.imwrite(\"new.jpg\", paddedImage)\n",
    "    correlationMatrix = []\n",
    "    for i in range(paddedImage.shape[0] - template.shape[0] + 1):\n",
    "        tempList = []\n",
    "        for j in range(paddedImage.shape[1] - template.shape[1] + 1):\n",
    "            temp = paddedImage[i: i + template.shape[0], j: j + template.shape[1]]\n",
    "            tempFlatten = temp.flatten()\n",
    "            temp = temp - np.mean(tempFlatten)\n",
    "            temp = temp / np.std(tempFlatten)\n",
    "            temp = np.multiply(temp, template)\n",
    "            temp = temp.flatten()\n",
    "            tempList.append(np.sum(temp)/ (template.shape[0] * template.shape[1]))\n",
    "        correlationMatrix.append(tempList)\n",
    "    return correlationMatrix"
   ]
  },
  {
   "cell_type": "code",
   "execution_count": 4,
   "metadata": {},
   "outputs": [
    {
     "data": {
      "text/plain": [
       "True"
      ]
     },
     "execution_count": 4,
     "metadata": {},
     "output_type": "execute_result"
    }
   ],
   "source": [
    "groupPhoto = cv2.imread('gp.jpg')\n",
    "groupPhoto = cv2.cvtColor(groupPhoto, cv2.COLOR_BGR2GRAY)\n",
    "groupPhotoFace = cv2.imread('gpF.jpg')\n",
    "groupPhotoFace = cv2.cvtColor(groupPhotoFace, cv2.COLOR_BGR2GRAY)\n",
    "correlationMatrix = findNoramlisedCorrelation(groupPhotoFace, groupPhoto)\n",
    "cv2.imwrite(\"1a.jpg\", np.array(correlationMatrix))"
   ]
  },
  {
   "cell_type": "markdown",
   "metadata": {},
   "source": [
    "part 1b) The template has 3 white lines with aproximately same intensity(high intensity as compared to other parts of the kernel). On cross corelation it will give high intensity where there is higher similarity with the kernel. The peak occurs at the original place in the image. The other lines are because the image has similar artifacts to the 3 lines. The diagonal edges are being sharpened.\n"
   ]
  },
  {
   "cell_type": "code",
   "execution_count": 5,
   "metadata": {},
   "outputs": [
    {
     "data": {
      "text/plain": [
       "True"
      ]
     },
     "execution_count": 5,
     "metadata": {},
     "output_type": "execute_result"
    }
   ],
   "source": [
    "template = cv2.imread('trailer.png')\n",
    "template = cv2.cvtColor(template, cv2.COLOR_BGR2GRAY)\n",
    "image = cv2.imread('u2cuba.jpg')\n",
    "image = cv2.cvtColor(image, cv2.COLOR_BGR2GRAY)\n",
    "\n",
    "cv2.imwrite(\"1b.jpg\", np.array(findNoramlisedCorrelation(template, image)))"
   ]
  },
  {
   "cell_type": "markdown",
   "metadata": {},
   "source": [
    "part1c) The results are very similar to the b part except the fact the peak brightness spot that is present in b is not present here. This happens because there is a scaling miss match in the template image and the section of image it was meant to correlate with. This shows that correlation is highly sensitive to any type of transformation and it is not practical to use it in real world scenarios where getting exact matching templates is not feasible."
   ]
  },
  {
   "cell_type": "code",
   "execution_count": 6,
   "metadata": {},
   "outputs": [
    {
     "data": {
      "text/plain": [
       "True"
      ]
     },
     "execution_count": 6,
     "metadata": {},
     "output_type": "execute_result"
    }
   ],
   "source": [
    "template = cv2.imread('trailerSlightlyBigger.png')\n",
    "template = cv2.cvtColor(template, cv2.COLOR_BGR2GRAY)\n",
    "image = cv2.imread('u2cuba.jpg')\n",
    "image = cv2.cvtColor(image, cv2.COLOR_BGR2GRAY)\n",
    "cv2.imwrite(\"1c.jpg\", np.array(findNoramlisedCorrelation(template, image)))"
   ]
  },
  {
   "cell_type": "markdown",
   "metadata": {},
   "source": [
    "partd) Each pixel goes through O(mm) operations, each template has (nn) pixels so each template requires O(mmnn) operations. Hence for Ns sizes and Nr rotaions it will take O((Ns)(Nr)(mm)(nn)) operations."
   ]
  },
  {
   "cell_type": "code",
   "execution_count": null,
   "metadata": {},
   "outputs": [],
   "source": []
  }
 ],
 "metadata": {
  "kernelspec": {
   "display_name": "Python 3",
   "language": "python",
   "name": "python3"
  },
  "language_info": {
   "codemirror_mode": {
    "name": "ipython",
    "version": 3
   },
   "file_extension": ".py",
   "mimetype": "text/x-python",
   "name": "python",
   "nbconvert_exporter": "python",
   "pygments_lexer": "ipython3",
   "version": "3.6.8"
  }
 },
 "nbformat": 4,
 "nbformat_minor": 2
}
